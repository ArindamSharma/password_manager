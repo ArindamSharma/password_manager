{
 "cells": [
  {
   "cell_type": "code",
   "execution_count": 1,
   "source": [
    "import pandas as pd"
   ],
   "outputs": [],
   "metadata": {}
  },
  {
   "cell_type": "code",
   "execution_count": 14,
   "source": [
    "category=[\"Company\",\"Personal\",\"College\"]\r\n",
    "subcategory=[\"Intern/Job\",\"Education\",\"SocialMedia\",\"Coding\",\"Other\",\"Software\",\"Mobile\",\"Shopping\",\"Banking\",\"Licenced\",\"OTP Based\",\"Gaming\"]\r\n",
    "microcategory=[]\r\n",
    "outputfile=\"password_db.csv\""
   ],
   "outputs": [],
   "metadata": {}
  },
  {
   "cell_type": "code",
   "execution_count": 36,
   "source": [
    "password_db=pd.DataFrame(columns=[\"category\",\"subcateogry\",\"microcategory\",\"title\",\"email\",\"username\",\"password\",\"link\",\"data\"])"
   ],
   "outputs": [],
   "metadata": {}
  },
  {
   "cell_type": "code",
   "execution_count": 41,
   "source": [
    "password_db"
   ],
   "outputs": [
    {
     "output_type": "execute_result",
     "data": {
      "text/plain": [
       "   category subcateogry microcategory   title                        email  \\\n",
       "0   Company       Other          None  Google       arindam@vassarlabs.com   \n",
       "1  Personal       Other          None  Google  arindamsharma1998@gmail.com   \n",
       "\n",
       "                      username  password        link  data  \n",
       "0       arindam@vassarlabs.com  testing1  google.com  None  \n",
       "1  arindamsharma1998@gmail.com  testing1  google.com  None  "
      ],
      "text/html": [
       "<div>\n",
       "<style scoped>\n",
       "    .dataframe tbody tr th:only-of-type {\n",
       "        vertical-align: middle;\n",
       "    }\n",
       "\n",
       "    .dataframe tbody tr th {\n",
       "        vertical-align: top;\n",
       "    }\n",
       "\n",
       "    .dataframe thead th {\n",
       "        text-align: right;\n",
       "    }\n",
       "</style>\n",
       "<table border=\"1\" class=\"dataframe\">\n",
       "  <thead>\n",
       "    <tr style=\"text-align: right;\">\n",
       "      <th></th>\n",
       "      <th>category</th>\n",
       "      <th>subcateogry</th>\n",
       "      <th>microcategory</th>\n",
       "      <th>title</th>\n",
       "      <th>email</th>\n",
       "      <th>username</th>\n",
       "      <th>password</th>\n",
       "      <th>link</th>\n",
       "      <th>data</th>\n",
       "    </tr>\n",
       "  </thead>\n",
       "  <tbody>\n",
       "    <tr>\n",
       "      <th>0</th>\n",
       "      <td>Company</td>\n",
       "      <td>Other</td>\n",
       "      <td>None</td>\n",
       "      <td>Google</td>\n",
       "      <td>arindam@vassarlabs.com</td>\n",
       "      <td>arindam@vassarlabs.com</td>\n",
       "      <td>testing1</td>\n",
       "      <td>google.com</td>\n",
       "      <td>None</td>\n",
       "    </tr>\n",
       "    <tr>\n",
       "      <th>1</th>\n",
       "      <td>Personal</td>\n",
       "      <td>Other</td>\n",
       "      <td>None</td>\n",
       "      <td>Google</td>\n",
       "      <td>arindamsharma1998@gmail.com</td>\n",
       "      <td>arindamsharma1998@gmail.com</td>\n",
       "      <td>testing1</td>\n",
       "      <td>google.com</td>\n",
       "      <td>None</td>\n",
       "    </tr>\n",
       "  </tbody>\n",
       "</table>\n",
       "</div>"
      ]
     },
     "metadata": {},
     "execution_count": 41
    }
   ],
   "metadata": {}
  },
  {
   "cell_type": "code",
   "execution_count": 39,
   "source": [
    "password_db.loc[len(password_db)]=[\"Company\",\"Other\",None,\"Google\",\"arindam@vassarlabs.com\",\"arindam@vassarlabs.com\",\"testing1\",\"google.com\",None]"
   ],
   "outputs": [],
   "metadata": {}
  },
  {
   "cell_type": "code",
   "execution_count": 40,
   "source": [
    "password_db.loc[len(password_db)]=[\"Personal\",\"Other\",None,\"Google\",\"arindamsharma1998@gmail.com\",\"arindamsharma1998@gmail.com\",\"testing1\",\"google.com\",None]"
   ],
   "outputs": [],
   "metadata": {}
  },
  {
   "cell_type": "code",
   "execution_count": 16,
   "source": [
    "password_db.to_csv(outputfile,index=False)\r\n",
    "print(\"File Saved\")"
   ],
   "outputs": [
    {
     "output_type": "stream",
     "name": "stdout",
     "text": [
      "File Saved\n"
     ]
    }
   ],
   "metadata": {}
  },
  {
   "cell_type": "code",
   "execution_count": null,
   "source": [],
   "outputs": [],
   "metadata": {}
  }
 ],
 "metadata": {
  "orig_nbformat": 4,
  "language_info": {
   "name": "python",
   "version": "3.9.1",
   "mimetype": "text/x-python",
   "codemirror_mode": {
    "name": "ipython",
    "version": 3
   },
   "pygments_lexer": "ipython3",
   "nbconvert_exporter": "python",
   "file_extension": ".py"
  },
  "kernelspec": {
   "name": "python3",
   "display_name": "Python 3.9.1 64-bit"
  },
  "interpreter": {
   "hash": "7af08249f09c7171d1d23b825ed822b653ae1cfbe6c85a234ec7e74b604897b2"
  }
 },
 "nbformat": 4,
 "nbformat_minor": 2
}