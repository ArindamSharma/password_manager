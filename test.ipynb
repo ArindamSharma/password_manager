{
 "cells": [
  {
   "cell_type": "code",
   "execution_count": 1,
   "source": [
    "import pandas as pd"
   ],
   "outputs": [],
   "metadata": {}
  },
  {
   "cell_type": "code",
   "execution_count": 6,
   "source": [
    "data=pd.read_csv(\"./password_db.csv\")"
   ],
   "outputs": [],
   "metadata": {}
  },
  {
   "cell_type": "code",
   "execution_count": 15,
   "source": [
    "data"
   ],
   "outputs": [
    {
     "output_type": "execute_result",
     "data": {
      "text/html": [
       "<div>\n",
       "<style scoped>\n",
       "    .dataframe tbody tr th:only-of-type {\n",
       "        vertical-align: middle;\n",
       "    }\n",
       "\n",
       "    .dataframe tbody tr th {\n",
       "        vertical-align: top;\n",
       "    }\n",
       "\n",
       "    .dataframe thead th {\n",
       "        text-align: right;\n",
       "    }\n",
       "</style>\n",
       "<table border=\"1\" class=\"dataframe\">\n",
       "  <thead>\n",
       "    <tr style=\"text-align: right;\">\n",
       "      <th></th>\n",
       "      <th>category</th>\n",
       "      <th>subcateogry</th>\n",
       "      <th>microcategory</th>\n",
       "      <th>title</th>\n",
       "      <th>username</th>\n",
       "      <th>password</th>\n",
       "      <th>link</th>\n",
       "      <th>data</th>\n",
       "    </tr>\n",
       "  </thead>\n",
       "  <tbody>\n",
       "    <tr>\n",
       "      <th>0</th>\n",
       "      <td>Company</td>\n",
       "      <td>NaN</td>\n",
       "      <td>NaN</td>\n",
       "      <td>Google</td>\n",
       "      <td>arindam@vassarlabs.com</td>\n",
       "      <td>Arindam@22</td>\n",
       "      <td>google.com</td>\n",
       "      <td>NaN</td>\n",
       "    </tr>\n",
       "    <tr>\n",
       "      <th>1</th>\n",
       "      <td>Personal</td>\n",
       "      <td>None</td>\n",
       "      <td>None</td>\n",
       "      <td>Google</td>\n",
       "      <td>arindamsharma1998@gmail.com</td>\n",
       "      <td>test1</td>\n",
       "      <td>google.com</td>\n",
       "      <td>None</td>\n",
       "    </tr>\n",
       "    <tr>\n",
       "      <th>2</th>\n",
       "      <td>Personal</td>\n",
       "      <td>None</td>\n",
       "      <td>None</td>\n",
       "      <td>Google</td>\n",
       "      <td>arindamsharma18@gmail.com</td>\n",
       "      <td>test1</td>\n",
       "      <td>google.com</td>\n",
       "      <td>None</td>\n",
       "    </tr>\n",
       "    <tr>\n",
       "      <th>3</th>\n",
       "      <td>Personal</td>\n",
       "      <td>None</td>\n",
       "      <td>None</td>\n",
       "      <td>Google</td>\n",
       "      <td>gamemyboy22@gmail.com</td>\n",
       "      <td>test3</td>\n",
       "      <td>google.com</td>\n",
       "      <td>None</td>\n",
       "    </tr>\n",
       "    <tr>\n",
       "      <th>4</th>\n",
       "      <td>Company</td>\n",
       "      <td>None</td>\n",
       "      <td>None</td>\n",
       "      <td>Jira</td>\n",
       "      <td>arindam@vassarlabs.com</td>\n",
       "      <td>test3</td>\n",
       "      <td>jira.com</td>\n",
       "      <td>None</td>\n",
       "    </tr>\n",
       "  </tbody>\n",
       "</table>\n",
       "</div>"
      ],
      "text/plain": [
       "   category subcateogry microcategory   title                     username  \\\n",
       "0   Company         NaN           NaN  Google       arindam@vassarlabs.com   \n",
       "1  Personal        None          None  Google  arindamsharma1998@gmail.com   \n",
       "2  Personal        None          None  Google    arindamsharma18@gmail.com   \n",
       "3  Personal        None          None  Google        gamemyboy22@gmail.com   \n",
       "4   Company        None          None    Jira       arindam@vassarlabs.com   \n",
       "\n",
       "     password        link  data  \n",
       "0  Arindam@22  google.com   NaN  \n",
       "1       test1  google.com  None  \n",
       "2       test1  google.com  None  \n",
       "3       test3  google.com  None  \n",
       "4       test3    jira.com  None  "
      ]
     },
     "metadata": {},
     "execution_count": 15
    }
   ],
   "metadata": {}
  },
  {
   "cell_type": "code",
   "execution_count": 14,
   "source": [
    "data.loc[len(data)]=[\"Company\",None,None,\"Jira\",\"arindam@vassarlabs.com\",\"test3\",\"jira.com\",None]"
   ],
   "outputs": [],
   "metadata": {}
  },
  {
   "cell_type": "code",
   "execution_count": 16,
   "source": [
    "data.to_csv(\"./password_db.csv\",index=False)"
   ],
   "outputs": [],
   "metadata": {}
  },
  {
   "cell_type": "code",
   "execution_count": null,
   "source": [],
   "outputs": [],
   "metadata": {}
  }
 ],
 "metadata": {
  "orig_nbformat": 4,
  "language_info": {
   "name": "python",
   "version": "3.9.1",
   "mimetype": "text/x-python",
   "codemirror_mode": {
    "name": "ipython",
    "version": 3
   },
   "pygments_lexer": "ipython3",
   "nbconvert_exporter": "python",
   "file_extension": ".py"
  },
  "kernelspec": {
   "name": "python3",
   "display_name": "Python 3.9.1 64-bit"
  },
  "interpreter": {
   "hash": "7af08249f09c7171d1d23b825ed822b653ae1cfbe6c85a234ec7e74b604897b2"
  }
 },
 "nbformat": 4,
 "nbformat_minor": 2
}